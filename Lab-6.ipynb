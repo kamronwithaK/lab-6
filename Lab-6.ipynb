{
 "cells": [
  {
   "cell_type": "code",
   "execution_count": null,
   "metadata": {},
   "outputs": [],
   "source": [
    "name = input(\"Enter your name\")\n",
    "fav_number = int(input(\"Enter your favorite number: \"))\n",
    "\n",
    "\n",
    "squared = fav_number ** 2\n",
    "is_even = fav_number % 2 == 0 \n",
    "\n",
    "\n",
    "print(f\"Hello, {name}! Your favorite number squared is {squared}.\")\n",
    "if is_even:\n",
    "    print(f\"\")\n",
    "else:\n",
    "    print(f\"\")\n",
    "\n"
   ]
  }
 ],
 "metadata": {
  "kernelspec": {
   "display_name": "Python 3",
   "language": "python",
   "name": "python3"
  },
  "language_info": {
   "codemirror_mode": {
    "name": "ipython",
    "version": 3
   },
   "file_extension": ".py",
   "mimetype": "text/x-python",
   "name": "python",
   "nbconvert_exporter": "python",
   "pygments_lexer": "ipython3",
   "version": "3.9.6"
  }
 },
 "nbformat": 4,
 "nbformat_minor": 4
}

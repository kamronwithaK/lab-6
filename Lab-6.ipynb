{
 "cells": [
  {
   "cell_type": "code",
   "execution_count": null,
   "metadata": {},
   "outputs": [],
   "source": [
    "name = input(\"Enter your name: \")\n",
    "fav_number = int(input(\"Enter your favorite number: \"))\n",
    "\n",
    "# Calculate some fun facts about the number\n",
    "squared = fav_number ** 2\n",
    "doubled = fav_number * 2\n",
    "is_even = fav_number % 2 == 0\n",
    "\n",
    "# Print the results\n",
    "print(f\"\\nHello, {name}! Here are some fun facts about your favorite number {fav_number}:\")\n",
    "print(f\"  - {fav_number} squared is {squared}\")\n",
    "print(f\"  - {fav_number} doubled is {doubled}\")\n",
    "\n",
    "if is_even:\n",
    "    print(f\"  - {fav_number} is an even number!\")\n",
    "else:\n",
    "    print(f\"  - {fav_number} is an odd number!\")\n",
    "\n"
   ]
  }
 ],
 "metadata": {
  "kernelspec": {
   "display_name": "Python 3",
   "language": "python",
   "name": "python3"
  },
  "language_info": {
   "codemirror_mode": {
    "name": "ipython",
    "version": 3
   },
   "file_extension": ".py",
   "mimetype": "text/x-python",
   "name": "python",
   "nbconvert_exporter": "python",
   "pygments_lexer": "ipython3",
   "version": "3.9.6"
  }
 },
 "nbformat": 4,
 "nbformat_minor": 4
}
